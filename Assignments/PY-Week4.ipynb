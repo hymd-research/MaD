{
 "cells": [
  {
   "cell_type": "markdown",
   "metadata": {},
   "source": [
    "# Week 4: 課題\n",
    "\n",
    "## 課題\n",
    "\n",
    "下記の準備を読み，問題に答えなさい。\n",
    "\n",
    "### 提出方法\n",
    "\n",
    "MS Teams の対応する課題に ipynb ファイルを添付して提出する。  \n",
    "\n",
    "- 提出前に Kernel > Restart Kernel and Run All Cells... を実行して，エラーが生じないことを確認してください。\n",
    "\n",
    "### 締切\n",
    "\n",
    "2020/6/3"
   ]
  },
  {
   "cell_type": "markdown",
   "metadata": {},
   "source": [
    "## 準備\n",
    "\n",
    "`Data/week04.csv` (<https://git.io/Jfok1>) は内閣府の国民経済計算から取得したデータである。"
   ]
  },
  {
   "cell_type": "code",
   "execution_count": 1,
   "metadata": {},
   "outputs": [
    {
     "data": {
      "text/html": [
       "<div>\n",
       "<style scoped>\n",
       "    .dataframe tbody tr th:only-of-type {\n",
       "        vertical-align: middle;\n",
       "    }\n",
       "\n",
       "    .dataframe tbody tr th {\n",
       "        vertical-align: top;\n",
       "    }\n",
       "\n",
       "    .dataframe thead th {\n",
       "        text-align: right;\n",
       "    }\n",
       "</style>\n",
       "<table border=\"1\" class=\"dataframe\">\n",
       "  <thead>\n",
       "    <tr style=\"text-align: right;\">\n",
       "      <th></th>\n",
       "      <th>C</th>\n",
       "      <th>I</th>\n",
       "      <th>G</th>\n",
       "      <th>EX</th>\n",
       "      <th>IM</th>\n",
       "    </tr>\n",
       "    <tr>\n",
       "      <th>year</th>\n",
       "      <th></th>\n",
       "      <th></th>\n",
       "      <th></th>\n",
       "      <th></th>\n",
       "      <th></th>\n",
       "    </tr>\n",
       "  </thead>\n",
       "  <tbody>\n",
       "    <tr>\n",
       "      <th>1994</th>\n",
       "      <td>245683.7</td>\n",
       "      <td>85579.0</td>\n",
       "      <td>116168.0</td>\n",
       "      <td>34762.1</td>\n",
       "      <td>-45368.4</td>\n",
       "    </tr>\n",
       "    <tr>\n",
       "      <th>1995</th>\n",
       "      <td>251970.1</td>\n",
       "      <td>91898.7</td>\n",
       "      <td>121375.1</td>\n",
       "      <td>36215.3</td>\n",
       "      <td>-51890.3</td>\n",
       "    </tr>\n",
       "    <tr>\n",
       "      <th>1996</th>\n",
       "      <td>258151.7</td>\n",
       "      <td>98453.7</td>\n",
       "      <td>122091.8</td>\n",
       "      <td>38556.4</td>\n",
       "      <td>-56313.6</td>\n",
       "    </tr>\n",
       "    <tr>\n",
       "      <th>1997</th>\n",
       "      <td>255781.6</td>\n",
       "      <td>98030.6</td>\n",
       "      <td>119923.9</td>\n",
       "      <td>41992.1</td>\n",
       "      <td>-55113.0</td>\n",
       "    </tr>\n",
       "    <tr>\n",
       "      <th>1998</th>\n",
       "      <td>256657.7</td>\n",
       "      <td>89979.1</td>\n",
       "      <td>121866.0</td>\n",
       "      <td>40405.5</td>\n",
       "      <td>-51513.9</td>\n",
       "    </tr>\n",
       "  </tbody>\n",
       "</table>\n",
       "</div>"
      ],
      "text/plain": [
       "             C        I         G       EX       IM\n",
       "year                                               \n",
       "1994  245683.7  85579.0  116168.0  34762.1 -45368.4\n",
       "1995  251970.1  91898.7  121375.1  36215.3 -51890.3\n",
       "1996  258151.7  98453.7  122091.8  38556.4 -56313.6\n",
       "1997  255781.6  98030.6  119923.9  41992.1 -55113.0\n",
       "1998  256657.7  89979.1  121866.0  40405.5 -51513.9"
      ]
     },
     "execution_count": 1,
     "metadata": {},
     "output_type": "execute_result"
    }
   ],
   "source": [
    "import numpy as np\n",
    "import pandas as pd\n",
    "\n",
    "frame = pd.read_csv('https://git.io/Jfok1', index_col='year')\n",
    "frame.head()"
   ]
  },
  {
   "cell_type": "markdown",
   "metadata": {},
   "source": [
    "ただし，IM は負値に変換している。したがって，国内総生産は次の式で計算できる。\n",
    "\n",
    "$$\n",
    "Y = C + I + G + EX + IM\n",
    "$$\n",
    "\n",
    "上では Pandas というデータ分析用のライブラリを用いているが，テキストに合わせるために NumPy の行列に変換しておこう。（Pandas については回を改めて解説する）"
   ]
  },
  {
   "cell_type": "code",
   "execution_count": 2,
   "metadata": {},
   "outputs": [
    {
     "data": {
      "text/plain": [
       "array([[245683.7,  85579. , 116168. ,  34762.1, -45368.4],\n",
       "       [251970.1,  91898.7, 121375.1,  36215.3, -51890.3],\n",
       "       [258151.7,  98453.7, 122091.8,  38556.4, -56313.6],\n",
       "       [255781.6,  98030.6, 119923.9,  41992.1, -55113. ],\n",
       "       [256657.7,  89979.1, 121866. ,  40405.5, -51513.9],\n",
       "       [260435.7,  86547.5, 124593. ,  42841. , -54897.2],\n",
       "       [263971.8,  94429.3, 124474.9,  46914.1, -60396.4],\n",
       "       [268881.1,  88488.4, 125301.6,  43300.2, -58423.7],\n",
       "       [271953.3,  85804. , 125357.3,  48532.8, -61189. ],\n",
       "       [273850.1,  90087.9, 124308.7,  53334. , -62616.3],\n",
       "       [277097. ,  94222.5, 122703.4,  59578.1, -68091.6],\n",
       "       [281427. ,  98843.6, 120682.3,  65228.8, -72284.2],\n",
       "       [283493.6, 101282.1, 119148.2,  70896.2, -74872.7],\n",
       "       [285850.5,  98892.8, 119361.3,  77607.2, -76698.5],\n",
       "       [280054.7,  94203.7, 117674. ,  69656.4, -73338. ],\n",
       "       [282488.5,  74894.8, 122576.4,  63394. , -65525.8],\n",
       "       [286647. ,  82673.7, 122632.8,  74749.1, -73434.9],\n",
       "       [288796.6,  86205.9, 123964.5,  73571.2, -77247. ],\n",
       "       [293396.6,  88048.2, 125592.2,  72387.6, -80155.7],\n",
       "       [301514.2,  91947.2, 129472.2,  75583.3, -85867.1],\n",
       "       [293681.2,  94846.8, 129404.4,  82192.2, -89506.8],\n",
       "       [295660.9,  97503.6, 130884.5,  82869.2, -89904.2],\n",
       "       [295533.7,  97508.6, 131701.3,  85891.5, -89101.2],\n",
       "       [298875.3, 101559.2, 132328.7,  91433.1, -92616.5],\n",
       "       [299046.8, 102275.3, 133394.6,  92873. , -94618.3]])"
      ]
     },
     "execution_count": 2,
     "metadata": {},
     "output_type": "execute_result"
    }
   ],
   "source": [
    "expenditure = frame.to_numpy()\n",
    "expenditure"
   ]
  },
  {
   "cell_type": "markdown",
   "metadata": {},
   "source": [
    "## 問題\n",
    "\n",
    "`expenditure` 行列に対して，各列（C, I, G, EX, IM） の寄与度を計算する Python コードを書きなさい。結果は，shape が `(25, 5)` であり，かつ，1行目が `np.nan` であるような NumPy の行列になる。\n",
    "\n",
    "[解答]"
   ]
  },
  {
   "cell_type": "code",
   "execution_count": null,
   "metadata": {},
   "outputs": [],
   "source": [
    "# 1. まず，このセルを実行してください。\n",
    "\n",
    "import numpy as np\n",
    "import pandas as pd\n",
    "\n",
    "frame = pd.read_csv('https://git.io/Jfok1', index_col='year')\n",
    "frame.head()\n",
    "\n",
    "expenditure = frame.to_numpy()"
   ]
  },
  {
   "cell_type": "code",
   "execution_count": null,
   "metadata": {},
   "outputs": [],
   "source": [
    "# 2. 計算コードはここに書いてください。必要に応じてセルを追加して構いません。\n",
    "#    結果は contribution という名前にしてください。\n",
    "\n",
    "\n",
    "\n",
    "\n",
    "\n",
    "\n",
    "\n",
    "\n"
   ]
  },
  {
   "cell_type": "code",
   "execution_count": null,
   "metadata": {},
   "outputs": [],
   "source": [
    "# 3. 最後にこのセルを実行してください。\n",
    "\n",
    "result = pd.DataFrame(contribution, index=frame.index, columns=frame.columns)\n",
    "result = result * 100\n",
    "result"
   ]
  },
  {
   "cell_type": "code",
   "execution_count": null,
   "metadata": {},
   "outputs": [],
   "source": []
  }
 ],
 "metadata": {
  "kernelspec": {
   "display_name": "Python 3",
   "language": "python",
   "name": "python3"
  },
  "language_info": {
   "codemirror_mode": {
    "name": "ipython",
    "version": 3
   },
   "file_extension": ".py",
   "mimetype": "text/x-python",
   "name": "python",
   "nbconvert_exporter": "python",
   "pygments_lexer": "ipython3",
   "version": "3.7.7"
  }
 },
 "nbformat": 4,
 "nbformat_minor": 4
}
