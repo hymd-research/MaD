{
 "cells": [
  {
   "cell_type": "markdown",
   "metadata": {},
   "source": [
    "## 練習問題\n",
    "\n",
    "by kenjisato  \n",
    "id: ch01-kjst04"
   ]
  },
  {
   "cell_type": "markdown",
   "metadata": {},
   "source": [
    "### 問題\n",
    "\n"
   ]
  },
  {
   "cell_type": "markdown",
   "metadata": {},
   "source": [
    "ある4年間の実質GDPが\n",
    "\n",
    "$$\n",
    "\\begin{aligned}\n",
    "    y_0 &= 500\\\\\n",
    "    y_1 &= 520\\\\\n",
    "    y_2 &= 550\\\\\n",
    "    y_3 &= 580\n",
    "\\end{aligned}\n",
    "$$\n",
    "\n",
    "だった。この4年間の平均成長率を計算しなさい。"
   ]
  },
  {
   "cell_type": "markdown",
   "metadata": {},
   "source": [
    "#### 解答\n",
    "\n",
    "平均成長率の計算には，最初と最後の数字，経過年数がわかればよい。\n",
    "$$\n",
    "r = \\left(\\frac{y_3}{y_0}\\right)^{1/3} - 1\n",
    "$$"
   ]
  },
  {
   "cell_type": "code",
   "execution_count": 1,
   "metadata": {},
   "outputs": [
    {
     "data": {
      "text/plain": [
       "0.050717574498580165"
      ]
     },
     "execution_count": 1,
     "metadata": {},
     "output_type": "execute_result"
    }
   ],
   "source": [
    "y0, y3 = 500, 580\n",
    "r = (y3 / y0) ** (1 / 3) - 1\n",
    "r"
   ]
  },
  {
   "cell_type": "markdown",
   "metadata": {},
   "source": [
    "対数差分を用いて瞬時成長率を計算してもよいだろう。\n",
    "\n",
    "$$\n",
    "(1 + r) = \\left(\\frac{y_3}{y_0}\\right)^{1/3}\n",
    "$$\n",
    "\n",
    "両辺の対数を取って，\n",
    "\n",
    "$$\n",
    "\\log (1 + r) = \\frac{\\log y_3 - \\log y_0}{3}\n",
    "$$\n",
    "\n",
    "$r \\approx \\log (1 + r)$ という近似公式に注意すると，右辺を用いるとよいことがわかる。"
   ]
  },
  {
   "cell_type": "code",
   "execution_count": 2,
   "metadata": {},
   "outputs": [
    {
     "data": {
      "text/plain": [
       "0.049473335039424526"
      ]
     },
     "execution_count": 2,
     "metadata": {},
     "output_type": "execute_result"
    }
   ],
   "source": [
    "import numpy as np\n",
    "\n",
    "(np.log(y3) - np.log(y0)) / 3"
   ]
  },
  {
   "cell_type": "code",
   "execution_count": null,
   "metadata": {},
   "outputs": [],
   "source": []
  }
 ],
 "metadata": {
  "kernelspec": {
   "display_name": "Python 3",
   "language": "python",
   "name": "python3"
  },
  "language_info": {
   "codemirror_mode": {
    "name": "ipython",
    "version": 3
   },
   "file_extension": ".py",
   "mimetype": "text/x-python",
   "name": "python",
   "nbconvert_exporter": "python",
   "pygments_lexer": "ipython3",
   "version": "3.7.7"
  }
 },
 "nbformat": 4,
 "nbformat_minor": 4
}
