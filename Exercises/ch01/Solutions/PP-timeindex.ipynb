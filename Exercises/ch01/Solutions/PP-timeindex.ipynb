{
 "cells": [
  {
   "cell_type": "markdown",
   "metadata": {},
   "source": [
    "## 練習問題 (解答例)\n",
    "\n",
    "by kenjisato  \n",
    "id: ch01-kjst01"
   ]
  },
  {
   "cell_type": "markdown",
   "metadata": {},
   "source": [
    "### 問題\n",
    "(ch01.pdf, 1.2.1 節より転載)\n",
    "\n",
    "分析の起点を1951年（$t = 0$）とする。\n",
    "\n",
    "1. 第58期（$t = 58$）は西暦に換算すると何年か？\n",
    "1. 一般の $t$期は西暦何年か？$t$ を用いた公式を導きなさい。"
   ]
  },
  {
   "cell_type": "markdown",
   "metadata": {},
   "source": [
    "#### 解答\n",
    "\n",
    "いくつか書き出してみる。\n",
    "\n",
    "$t = 0$ $\\leftrightarrow$ 1951,   \n",
    "$t = 1$ $\\leftrightarrow$ 1952,   \n",
    "$t = 2$ $\\leftrightarrow$ 1953,  \n",
    "$\\vdots$\n",
    "\n",
    "第 $t$ 期は西暦 $(t + 1951)$年である。第58期は西暦 2009年。\n",
    "\n"
   ]
  },
  {
   "cell_type": "markdown",
   "metadata": {},
   "source": [
    "### 問題\n",
    "(ch01.pdf, 1.2.1 節より転載)\n",
    "\n",
    "1年間のGDPではなく四半期GDPを分析したいとしよう。2000年の第1四半期（1-3月期）を分析の起点 $t = 0$ とする。\n",
    "\n",
    "1. $t = 1, 2, \\dots$ と四半期GDP $y_1, y_2, \\dots$ が表す内容を下表に書き下しなさい。"
   ]
  },
  {
   "cell_type": "markdown",
   "metadata": {},
   "source": [
    "#### 解答\n",
    "\n",
    "\n",
    "| 記号       | 意味                         |\n",
    "|:----------:|:----------------------------|\n",
    "| $ t = 0 $  | 2000年の第1四半期（1-3月期）    |\n",
    "| $ y_0 $    | 2000年の第1四半期の四半期GDP    |\n",
    "| $ t = 1 $  | 2000年の第2四半期（4-6月期）    |\n",
    "| $ y_1 $    | 2000年の第2四半期の四半期GDP    |\n",
    "| $ t = 2 $  | 2000年の第3四半期（7-9月期）    |\n",
    "| $$ y_2 $$  | 2000年の第3四半期の四半期GDP    |"
   ]
  },
  {
   "cell_type": "markdown",
   "metadata": {},
   "source": [
    "2. $t = 10$, $t = 35$ はそれぞれ何年の第何四半期にあたるか？"
   ]
  },
  {
   "cell_type": "markdown",
   "metadata": {},
   "source": [
    "#### 解答\n",
    "\n",
    "$t = 4m +n$ （ただし $n = 0, 1, 2, 3$) と表現したとき，$t$ 期は $(m+2000)$年の第 (n+1)四半期である。したがって，$t=10$ は2002年の第3四半期，$t=35$は2008年の第4四半期に対応する。\n"
   ]
  },
  {
   "cell_type": "code",
   "execution_count": null,
   "metadata": {},
   "outputs": [],
   "source": []
  }
 ],
 "metadata": {
  "kernelspec": {
   "display_name": "Python 3",
   "language": "python",
   "name": "python3"
  },
  "language_info": {
   "codemirror_mode": {
    "name": "ipython",
    "version": 3
   },
   "file_extension": ".py",
   "mimetype": "text/x-python",
   "name": "python",
   "nbconvert_exporter": "python",
   "pygments_lexer": "ipython3",
   "version": "3.7.7"
  }
 },
 "nbformat": 4,
 "nbformat_minor": 4
}
