{
 "cells": [
  {
   "cell_type": "markdown",
   "metadata": {},
   "source": [
    "# 練習問題 \n",
    "\n",
    "by [hymd-research](https://github.com/hymd-research)  \n",
    "id: ch01-hymd01"
   ]
  },
  {
   "cell_type": "markdown",
   "metadata": {},
   "source": [
    "## 1. Pythonのコードで計算しなさい\n",
    "\n",
    "1. $\\quad$    $(8 + 5) \\div 8$\n",
    "1. $\\quad$    $20210723 \\bmod 365 \\qquad$ ($m \\bmod n$ は $m$ を $n$ で割った「余り」)\n",
    "1. $\\quad$    $ 2^8 $"
   ]
  },
  {
   "cell_type": "code",
   "execution_count": null,
   "metadata": {},
   "outputs": [],
   "source": []
  },
  {
   "cell_type": "markdown",
   "metadata": {},
   "source": [
    "## 2. Python コードを用いて等号が成立するかどうかを確かめなさい"
   ]
  },
  {
   "cell_type": "markdown",
   "metadata": {},
   "source": [
    "1.$\\quad$ $\\dfrac{12.3}{45.6} = \\dfrac{1.23}{4.56}$\n",
    "\n",
    "2.$\\quad$ $\\dfrac{10.1}{30.1} == \\dfrac{1.01}{3.01}$"
   ]
  },
  {
   "cell_type": "markdown",
   "metadata": {},
   "source": [
    "[解答例](Solutions/PY-calculator01.ipynb)"
   ]
  },
  {
   "cell_type": "code",
   "execution_count": null,
   "metadata": {},
   "outputs": [],
   "source": []
  }
 ],
 "metadata": {
  "kernelspec": {
   "display_name": "Python 3",
   "language": "python",
   "name": "python3"
  },
  "language_info": {
   "codemirror_mode": {
    "name": "ipython",
    "version": 3
   },
   "file_extension": ".py",
   "mimetype": "text/x-python",
   "name": "python",
   "nbconvert_exporter": "python",
   "pygments_lexer": "ipython3",
   "version": "3.7.7"
  }
 },
 "nbformat": 4,
 "nbformat_minor": 4
}
